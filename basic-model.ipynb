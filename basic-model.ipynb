{
 "cells": [
  {
   "cell_type": "code",
   "execution_count": 27,
   "metadata": {},
   "outputs": [],
   "source": [
    "import tensorflow as tf\n",
    "import numpy as np\n",
    "from PIL import Image\n",
    "import os\n",
    "from sklearn.utils import shuffle"
   ]
  },
  {
   "cell_type": "code",
   "execution_count": 2,
   "metadata": {},
   "outputs": [],
   "source": [
    "path  = \"D:/Downloads/Images/Images\"\n",
    "train_data = []\n",
    "train_label = []"
   ]
  },
  {
   "cell_type": "code",
   "execution_count": null,
   "metadata": {},
   "outputs": [],
   "source": []
  },
  {
   "cell_type": "code",
   "execution_count": 3,
   "metadata": {},
   "outputs": [],
   "source": [
    "for filename in os.listdir(path):\n",
    "    depth = \"D:/Downloads/Images/Images\" + \"/\" + filename\n",
    "    c = ord(filename[0]) -65\n",
    "    count = 0\n",
    "    for f in os.listdir(depth):\n",
    "        count+=1\n",
    "        i = Image.open(depth+\"/\"+f)\n",
    "        m = np.array(i)\n",
    "        train_data.append(m)\n",
    "        train_label.append(c)\n",
    "        if count==500:\n",
    "            break\n",
    "#     print(c)"
   ]
  },
  {
   "cell_type": "code",
   "execution_count": 28,
   "metadata": {},
   "outputs": [],
   "source": [
    "train_x = np.array(train_data)\n",
    "train_y = np.array(train_label)\n",
    "train_x = train_x / 255.0\n",
    "train_x, train_y = shuffle(train_x, train_y)"
   ]
  },
  {
   "cell_type": "code",
   "execution_count": 33,
   "metadata": {},
   "outputs": [
    {
     "name": "stdout",
     "output_type": "stream",
     "text": [
      "[ 0 21 16 ... 11 19  3]\n"
     ]
    }
   ],
   "source": [
    "print(train_y)"
   ]
  },
  {
   "cell_type": "code",
   "execution_count": 34,
   "metadata": {},
   "outputs": [
    {
     "name": "stdout",
     "output_type": "stream",
     "text": [
      "Epoch 1/10\n",
      "13000/13000 [==============================] - 4s 277us/sample - loss: 1.5015 - accuracy: 0.6087\n",
      "Epoch 2/10\n",
      "13000/13000 [==============================] - 3s 266us/sample - loss: 1.0402 - accuracy: 0.7262\n",
      "Epoch 3/10\n",
      "13000/13000 [==============================] - 4s 306us/sample - loss: 0.8882 - accuracy: 0.7570\n",
      "Epoch 4/10\n",
      "13000/13000 [==============================] - 4s 317us/sample - loss: 0.7673 - accuracy: 0.7854\n",
      "Epoch 5/10\n",
      "13000/13000 [==============================] - 4s 293us/sample - loss: 0.6603 - accuracy: 0.8126\n",
      "Epoch 6/10\n",
      "13000/13000 [==============================] - 4s 276us/sample - loss: 0.5706 - accuracy: 0.8405\n",
      "Epoch 7/10\n",
      "13000/13000 [==============================] - 4s 309us/sample - loss: 0.5081 - accuracy: 0.8550\n",
      "Epoch 8/10\n",
      "13000/13000 [==============================] - 4s 293us/sample - loss: 0.4401 - accuracy: 0.8718\n",
      "Epoch 9/10\n",
      "13000/13000 [==============================] - 3s 265us/sample - loss: 0.4045 - accuracy: 0.8807\n",
      "Epoch 10/10\n",
      "13000/13000 [==============================] - 3s 262us/sample - loss: 0.3659 - accuracy: 0.8934\n"
     ]
    },
    {
     "data": {
      "text/plain": [
       "<tensorflow.python.keras.callbacks.History at 0x27f088aca20>"
      ]
     },
     "execution_count": 34,
     "metadata": {},
     "output_type": "execute_result"
    }
   ],
   "source": [
    "model = tf.keras.models.Sequential([\n",
    "            tf.keras.layers.Flatten(),\n",
    "            tf.keras.layers.Dense(1024, activation=tf.nn.relu),\n",
    "            tf.keras.layers.Dense(128, activation=tf.nn.relu),\n",
    "            tf.keras.layers.Dense(26, activation=tf.nn.softmax)\n",
    "])\n",
    "model.compile(optimizer='adam', loss='sparse_categorical_crossentropy', metrics=['accuracy'])\n",
    "model.fit(train_x, train_y, epochs=10)\n",
    "\n",
    "# test_loss = model.evaluate(test_images, test_labels)"
   ]
  },
  {
   "cell_type": "code",
   "execution_count": null,
   "metadata": {},
   "outputs": [],
   "source": []
  }
 ],
 "metadata": {
  "kernelspec": {
   "display_name": "Python 3",
   "language": "python",
   "name": "python3"
  },
  "language_info": {
   "codemirror_mode": {
    "name": "ipython",
    "version": 3
   },
   "file_extension": ".py",
   "mimetype": "text/x-python",
   "name": "python",
   "nbconvert_exporter": "python",
   "pygments_lexer": "ipython3",
   "version": "3.7.3"
  }
 },
 "nbformat": 4,
 "nbformat_minor": 2
}
